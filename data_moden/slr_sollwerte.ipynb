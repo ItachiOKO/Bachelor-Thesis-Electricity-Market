{
 "cells": [
  {
   "cell_type": "code",
   "execution_count": null,
   "id": "58fffe12",
   "metadata": {},
   "outputs": [],
   "source": [
    "import pandas as pd\n"
   ]
  },
  {
   "cell_type": "code",
   "execution_count": null,
   "id": "0925692d",
   "metadata": {},
   "outputs": [],
   "source": [
    "import polars as pl\n",
    "from pathlib import Path\n",
    "\n",
    "# Pfad zu den Dateien\n",
    "path_files = 'SRL Soll 2022-2025'\n",
    "files = [str(p) for p in Path(path_files).glob(\"*.csv\")]\n",
    "\n",
    "# Lazy Scans für alle CSV-Dateien\n",
    "lazy_frames = [\n",
    "    pl.scan_csv(\n",
    "        f,\n",
    "        separator=\";\",\n",
    "        has_header=True,\n",
    "        # === KORREKTUR ===\n",
    "        # Polars anweisen, das Komma als Dezimaltrennzeichen zu verwenden.\n",
    "        decimal_comma=True, \n",
    "        ignore_errors=True \n",
    "    )\n",
    "    for f in files\n",
    "]\n",
    "\n",
    "combined_df = pl.concat(lazy_frames, how=\"vertical\")\n",
    "\n",
    "df_master_ldf = combined_df.select(\n",
    "    # Datum und Zeit zu einem einzigen DateTime-Objekt zusammenfügen\n",
    "    pl.concat_str(\n",
    "        [pl.col(\"DATE\"), pl.col(\"TIME\")],\n",
    "        separator=\" \"\n",
    "    ).str.to_datetime(format=\"%d.%m.%Y %H:%M:%S\").alias(\"timestamp\"),\n",
    "    \n",
    "    # Die Setpoint-Spalte auswählen und umbenennen\n",
    "    pl.col(\"GERMANY_aFRR_SETPOINT_[MW]\")\n",
    ")\n",
    "\n",
    "# Erst jetzt werden die Daten eingelesen und alle Operationen ausgeführt\n",
    "df_master = df_master_ldf.collect(streaming=True)\n",
    "\n",
    "# Ergebnis anzeigen\n",
    "print(df_master)\n",
    "df = df_master.to_pandas()\n",
    "df\n"
   ]
  },
  {
   "cell_type": "code",
   "execution_count": 17,
   "id": "23f9adb2",
   "metadata": {},
   "outputs": [
    {
     "data": {
      "text/html": [
       "<div>\n",
       "<style scoped>\n",
       "    .dataframe tbody tr th:only-of-type {\n",
       "        vertical-align: middle;\n",
       "    }\n",
       "\n",
       "    .dataframe tbody tr th {\n",
       "        vertical-align: top;\n",
       "    }\n",
       "\n",
       "    .dataframe thead th {\n",
       "        text-align: right;\n",
       "    }\n",
       "</style>\n",
       "<table border=\"1\" class=\"dataframe\">\n",
       "  <thead>\n",
       "    <tr style=\"text-align: right;\">\n",
       "      <th></th>\n",
       "      <th>GERMANY_aFRR_SETPOINT_[MW]</th>\n",
       "    </tr>\n",
       "    <tr>\n",
       "      <th>timestamp</th>\n",
       "      <th></th>\n",
       "    </tr>\n",
       "  </thead>\n",
       "  <tbody>\n",
       "    <tr>\n",
       "      <th>2022-01-01 00:00:00+01:00</th>\n",
       "      <td>-78.723</td>\n",
       "    </tr>\n",
       "    <tr>\n",
       "      <th>2022-01-01 00:00:01+01:00</th>\n",
       "      <td>-78.723</td>\n",
       "    </tr>\n",
       "    <tr>\n",
       "      <th>2022-01-01 00:00:02+01:00</th>\n",
       "      <td>-43.437</td>\n",
       "    </tr>\n",
       "    <tr>\n",
       "      <th>2022-01-01 00:00:03+01:00</th>\n",
       "      <td>-43.437</td>\n",
       "    </tr>\n",
       "    <tr>\n",
       "      <th>2022-01-01 00:00:04+01:00</th>\n",
       "      <td>-30.867</td>\n",
       "    </tr>\n",
       "    <tr>\n",
       "      <th>...</th>\n",
       "      <td>...</td>\n",
       "    </tr>\n",
       "    <tr>\n",
       "      <th>2025-06-29 23:59:55+02:00</th>\n",
       "      <td>0.000</td>\n",
       "    </tr>\n",
       "    <tr>\n",
       "      <th>2025-06-29 23:59:56+02:00</th>\n",
       "      <td>0.000</td>\n",
       "    </tr>\n",
       "    <tr>\n",
       "      <th>2025-06-29 23:59:57+02:00</th>\n",
       "      <td>0.000</td>\n",
       "    </tr>\n",
       "    <tr>\n",
       "      <th>2025-06-29 23:59:58+02:00</th>\n",
       "      <td>0.000</td>\n",
       "    </tr>\n",
       "    <tr>\n",
       "      <th>2025-06-29 23:59:59+02:00</th>\n",
       "      <td>0.000</td>\n",
       "    </tr>\n",
       "  </tbody>\n",
       "</table>\n",
       "<p>109841853 rows × 1 columns</p>\n",
       "</div>"
      ],
      "text/plain": [
       "                           GERMANY_aFRR_SETPOINT_[MW]\n",
       "timestamp                                            \n",
       "2022-01-01 00:00:00+01:00                     -78.723\n",
       "2022-01-01 00:00:01+01:00                     -78.723\n",
       "2022-01-01 00:00:02+01:00                     -43.437\n",
       "2022-01-01 00:00:03+01:00                     -43.437\n",
       "2022-01-01 00:00:04+01:00                     -30.867\n",
       "...                                               ...\n",
       "2025-06-29 23:59:55+02:00                       0.000\n",
       "2025-06-29 23:59:56+02:00                       0.000\n",
       "2025-06-29 23:59:57+02:00                       0.000\n",
       "2025-06-29 23:59:58+02:00                       0.000\n",
       "2025-06-29 23:59:59+02:00                       0.000\n",
       "\n",
       "[109841853 rows x 1 columns]"
      ]
     },
     "execution_count": 17,
     "metadata": {},
     "output_type": "execute_result"
    }
   ],
   "source": [
    "# include localize europe german timezone\n",
    "\n",
    "\n",
    "df.index = df.index.tz_localize(\n",
    "    'Europe/Berlin',\n",
    "    ambiguous='infer',         # bei Zweifel: vorherige Information nutzen\n",
    "    nonexistent='shift_forward'  # fehlende Zeiten im Frühjahr eine Stunde vorziehen\n",
    ")\n",
    "\n",
    "df\n"
   ]
  },
  {
   "cell_type": "code",
   "execution_count": 18,
   "id": "69f57f82",
   "metadata": {},
   "outputs": [],
   "source": [
    "# negative vaues in 'srl negative' pos values in 'srl positive'\n",
    "df_srl_sollwert = df.copy()\n",
    "df_srl_sollwert['srl_positive'] = df_srl_sollwert['GERMANY_aFRR_SETPOINT_[MW]'].clip(lower=0)\n",
    "df_srl_sollwert['srl_negative'] = df_srl_sollwert['GERMANY_aFRR_SETPOINT_[MW]'].clip(upper=0)\n",
    "df_srl_sollwert.to_pickle('srl_setpoint.pkl')\n",
    "\n"
   ]
  },
  {
   "cell_type": "code",
   "execution_count": 19,
   "id": "32623acc",
   "metadata": {},
   "outputs": [
    {
     "name": "stderr",
     "output_type": "stream",
     "text": [
      "C:\\Users\\AdminMichael\\AppData\\Local\\Temp\\32\\ipykernel_14552\\3747524139.py:1: FutureWarning: 'S' is deprecated and will be removed in a future version, please use 's' instead.\n",
      "  df_4s_mean = df_srl_sollwert.resample('4S').mean()\n"
     ]
    }
   ],
   "source": [
    "df_4s_mean = df_srl_sollwert.resample('4S').mean()\n",
    "df_4s_mean.to_pickle('srl_setpoint_4s.pkl')\n"
   ]
  },
  {
   "cell_type": "code",
   "execution_count": null,
   "id": "bb9a2f3c",
   "metadata": {},
   "outputs": [],
   "source": [
    "# disable max rows display limit\n",
    "import pandas as pd\n",
    "pd.set_option('display.max_rows', 12)  # alle Zeilen anzeigen\n",
    "\n",
    "df = pd.read_pickle('srl_setpoint_4s.pkl')\n",
    "print(df)#['2022-06-01':'2022-06-30'])"
   ]
  },
  {
   "cell_type": "code",
   "execution_count": null,
   "id": "8c30e6e2",
   "metadata": {},
   "outputs": [],
   "source": []
  }
 ],
 "metadata": {
  "kernelspec": {
   "display_name": "base",
   "language": "python",
   "name": "python3"
  },
  "language_info": {
   "codemirror_mode": {
    "name": "ipython",
    "version": 3
   },
   "file_extension": ".py",
   "mimetype": "text/x-python",
   "name": "python",
   "nbconvert_exporter": "python",
   "pygments_lexer": "ipython3",
   "version": "3.11.5"
  }
 },
 "nbformat": 4,
 "nbformat_minor": 5
}
