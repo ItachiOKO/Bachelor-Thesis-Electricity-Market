{
 "cells": [
  {
   "cell_type": "code",
   "execution_count": 2,
   "id": "e174570c",
   "metadata": {},
   "outputs": [],
   "source": [
    "import pandas as pd\n",
    "path_files = 'SRL Soll 2022-2025'"
   ]
  },
  {
   "cell_type": "code",
   "execution_count": 11,
   "id": "b0aedf0b",
   "metadata": {},
   "outputs": [],
   "source": [
    "import os\n",
    "import pandas as pd\n",
    "\n",
    "path_files = 'SRL Soll 2022-2025'\n",
    "csv_files = [f for f in os.listdir(path_files) if f.endswith('.csv')]\n",
    "\n",
    "# liste aller DataFrames\n",
    "dfs = [\n",
    "    pd.read_csv(f'{path_files}/{fname}', index_col=0)\n",
    "    for fname in csv_files\n",
    "]\n",
    "\n",
    "# ein einziger concat-Aufruf\n",
    "df_master = pd.concat(dfs, ignore_index=False)\n",
    "#to_pkl\n",
    "df_master.to_parquet('srl_soll_2022-2025.parquet', index=True)"
   ]
  },
  {
   "cell_type": "code",
   "execution_count": null,
   "id": "fa2618e4",
   "metadata": {},
   "outputs": [
    {
     "ename": "TypeError",
     "evalue": "scan_csv() got an unexpected keyword argument 'sep'",
     "output_type": "error",
     "traceback": [
      "\u001b[1;31m---------------------------------------------------------------------------\u001b[0m",
      "\u001b[1;31mTypeError\u001b[0m                                 Traceback (most recent call last)",
      "Cell \u001b[1;32mIn[9], line 9\u001b[0m\n\u001b[0;32m      6\u001b[0m files \u001b[38;5;241m=\u001b[39m [\u001b[38;5;28mstr\u001b[39m(p) \u001b[38;5;28;01mfor\u001b[39;00m p \u001b[38;5;129;01min\u001b[39;00m Path(path_files)\u001b[38;5;241m.\u001b[39mglob(\u001b[38;5;124m\"\u001b[39m\u001b[38;5;124m*.csv\u001b[39m\u001b[38;5;124m\"\u001b[39m)]\n\u001b[0;32m      8\u001b[0m \u001b[38;5;66;03m# 2) Für jede Datei einen LazyFrame anlegen, mit korrektem Separator\u001b[39;00m\n\u001b[1;32m----> 9\u001b[0m lazy_frames \u001b[38;5;241m=\u001b[39m [\n\u001b[0;32m     10\u001b[0m     pl\u001b[38;5;241m.\u001b[39mscan_csv(\n\u001b[0;32m     11\u001b[0m         f,\n\u001b[0;32m     12\u001b[0m         sep\u001b[38;5;241m=\u001b[39m\u001b[38;5;124m\"\u001b[39m\u001b[38;5;124m;\u001b[39m\u001b[38;5;124m\"\u001b[39m,                      \u001b[38;5;66;03m# Semikolon als Trenner\u001b[39;00m\n\u001b[0;32m     13\u001b[0m         has_header\u001b[38;5;241m=\u001b[39m\u001b[38;5;28;01mTrue\u001b[39;00m,              \n\u001b[0;32m     14\u001b[0m         try_parse_dates\u001b[38;5;241m=\u001b[39m\u001b[38;5;28;01mTrue\u001b[39;00m,         \u001b[38;5;66;03m# Dates/Timestamps automatisch parsen\u001b[39;00m\n\u001b[0;32m     15\u001b[0m         truncate_ragged_lines\u001b[38;5;241m=\u001b[39m\u001b[38;5;28;01mTrue\u001b[39;00m    \u001b[38;5;66;03m# extra Felder am Zeilenende abschneiden\u001b[39;00m\n\u001b[0;32m     16\u001b[0m     )\n\u001b[0;32m     17\u001b[0m     \u001b[38;5;28;01mfor\u001b[39;00m f \u001b[38;5;129;01min\u001b[39;00m files\n\u001b[0;32m     18\u001b[0m ]\n\u001b[0;32m     20\u001b[0m \u001b[38;5;66;03m# 3) Alle LazyFrames zu einem einzigen zusammenführen\u001b[39;00m\n\u001b[0;32m     21\u001b[0m combined_ldf \u001b[38;5;241m=\u001b[39m pl\u001b[38;5;241m.\u001b[39mconcat(lazy_frames)\n",
      "Cell \u001b[1;32mIn[9], line 10\u001b[0m, in \u001b[0;36m<listcomp>\u001b[1;34m(.0)\u001b[0m\n\u001b[0;32m      6\u001b[0m files \u001b[38;5;241m=\u001b[39m [\u001b[38;5;28mstr\u001b[39m(p) \u001b[38;5;28;01mfor\u001b[39;00m p \u001b[38;5;129;01min\u001b[39;00m Path(path_files)\u001b[38;5;241m.\u001b[39mglob(\u001b[38;5;124m\"\u001b[39m\u001b[38;5;124m*.csv\u001b[39m\u001b[38;5;124m\"\u001b[39m)]\n\u001b[0;32m      8\u001b[0m \u001b[38;5;66;03m# 2) Für jede Datei einen LazyFrame anlegen, mit korrektem Separator\u001b[39;00m\n\u001b[0;32m      9\u001b[0m lazy_frames \u001b[38;5;241m=\u001b[39m [\n\u001b[1;32m---> 10\u001b[0m     pl\u001b[38;5;241m.\u001b[39mscan_csv(\n\u001b[0;32m     11\u001b[0m         f,\n\u001b[0;32m     12\u001b[0m         sep\u001b[38;5;241m=\u001b[39m\u001b[38;5;124m\"\u001b[39m\u001b[38;5;124m;\u001b[39m\u001b[38;5;124m\"\u001b[39m,                      \u001b[38;5;66;03m# Semikolon als Trenner\u001b[39;00m\n\u001b[0;32m     13\u001b[0m         has_header\u001b[38;5;241m=\u001b[39m\u001b[38;5;28;01mTrue\u001b[39;00m,              \n\u001b[0;32m     14\u001b[0m         try_parse_dates\u001b[38;5;241m=\u001b[39m\u001b[38;5;28;01mTrue\u001b[39;00m,         \u001b[38;5;66;03m# Dates/Timestamps automatisch parsen\u001b[39;00m\n\u001b[0;32m     15\u001b[0m         truncate_ragged_lines\u001b[38;5;241m=\u001b[39m\u001b[38;5;28;01mTrue\u001b[39;00m    \u001b[38;5;66;03m# extra Felder am Zeilenende abschneiden\u001b[39;00m\n\u001b[0;32m     16\u001b[0m     )\n\u001b[0;32m     17\u001b[0m     \u001b[38;5;28;01mfor\u001b[39;00m f \u001b[38;5;129;01min\u001b[39;00m files\n\u001b[0;32m     18\u001b[0m ]\n\u001b[0;32m     20\u001b[0m \u001b[38;5;66;03m# 3) Alle LazyFrames zu einem einzigen zusammenführen\u001b[39;00m\n\u001b[0;32m     21\u001b[0m combined_ldf \u001b[38;5;241m=\u001b[39m pl\u001b[38;5;241m.\u001b[39mconcat(lazy_frames)\n",
      "File \u001b[1;32m~\\AppData\\Roaming\\Python\\Python311\\site-packages\\polars\\_utils\\deprecation.py:128\u001b[0m, in \u001b[0;36mdeprecate_renamed_parameter.<locals>.decorate.<locals>.wrapper\u001b[1;34m(*args, **kwargs)\u001b[0m\n\u001b[0;32m    123\u001b[0m \u001b[38;5;129m@wraps\u001b[39m(function)\n\u001b[0;32m    124\u001b[0m \u001b[38;5;28;01mdef\u001b[39;00m \u001b[38;5;21mwrapper\u001b[39m(\u001b[38;5;241m*\u001b[39margs: P\u001b[38;5;241m.\u001b[39margs, \u001b[38;5;241m*\u001b[39m\u001b[38;5;241m*\u001b[39mkwargs: P\u001b[38;5;241m.\u001b[39mkwargs) \u001b[38;5;241m-\u001b[39m\u001b[38;5;241m>\u001b[39m T:\n\u001b[0;32m    125\u001b[0m     _rename_keyword_argument(\n\u001b[0;32m    126\u001b[0m         old_name, new_name, kwargs, function\u001b[38;5;241m.\u001b[39m\u001b[38;5;18m__qualname__\u001b[39m, version\n\u001b[0;32m    127\u001b[0m     )\n\u001b[1;32m--> 128\u001b[0m     \u001b[38;5;28;01mreturn\u001b[39;00m function(\u001b[38;5;241m*\u001b[39margs, \u001b[38;5;241m*\u001b[39m\u001b[38;5;241m*\u001b[39mkwargs)\n",
      "File \u001b[1;32m~\\AppData\\Roaming\\Python\\Python311\\site-packages\\polars\\_utils\\deprecation.py:128\u001b[0m, in \u001b[0;36mdeprecate_renamed_parameter.<locals>.decorate.<locals>.wrapper\u001b[1;34m(*args, **kwargs)\u001b[0m\n\u001b[0;32m    123\u001b[0m \u001b[38;5;129m@wraps\u001b[39m(function)\n\u001b[0;32m    124\u001b[0m \u001b[38;5;28;01mdef\u001b[39;00m \u001b[38;5;21mwrapper\u001b[39m(\u001b[38;5;241m*\u001b[39margs: P\u001b[38;5;241m.\u001b[39margs, \u001b[38;5;241m*\u001b[39m\u001b[38;5;241m*\u001b[39mkwargs: P\u001b[38;5;241m.\u001b[39mkwargs) \u001b[38;5;241m-\u001b[39m\u001b[38;5;241m>\u001b[39m T:\n\u001b[0;32m    125\u001b[0m     _rename_keyword_argument(\n\u001b[0;32m    126\u001b[0m         old_name, new_name, kwargs, function\u001b[38;5;241m.\u001b[39m\u001b[38;5;18m__qualname__\u001b[39m, version\n\u001b[0;32m    127\u001b[0m     )\n\u001b[1;32m--> 128\u001b[0m     \u001b[38;5;28;01mreturn\u001b[39;00m function(\u001b[38;5;241m*\u001b[39margs, \u001b[38;5;241m*\u001b[39m\u001b[38;5;241m*\u001b[39mkwargs)\n",
      "File \u001b[1;32m~\\AppData\\Roaming\\Python\\Python311\\site-packages\\polars\\_utils\\deprecation.py:128\u001b[0m, in \u001b[0;36mdeprecate_renamed_parameter.<locals>.decorate.<locals>.wrapper\u001b[1;34m(*args, **kwargs)\u001b[0m\n\u001b[0;32m    123\u001b[0m \u001b[38;5;129m@wraps\u001b[39m(function)\n\u001b[0;32m    124\u001b[0m \u001b[38;5;28;01mdef\u001b[39;00m \u001b[38;5;21mwrapper\u001b[39m(\u001b[38;5;241m*\u001b[39margs: P\u001b[38;5;241m.\u001b[39margs, \u001b[38;5;241m*\u001b[39m\u001b[38;5;241m*\u001b[39mkwargs: P\u001b[38;5;241m.\u001b[39mkwargs) \u001b[38;5;241m-\u001b[39m\u001b[38;5;241m>\u001b[39m T:\n\u001b[0;32m    125\u001b[0m     _rename_keyword_argument(\n\u001b[0;32m    126\u001b[0m         old_name, new_name, kwargs, function\u001b[38;5;241m.\u001b[39m\u001b[38;5;18m__qualname__\u001b[39m, version\n\u001b[0;32m    127\u001b[0m     )\n\u001b[1;32m--> 128\u001b[0m     \u001b[38;5;28;01mreturn\u001b[39;00m function(\u001b[38;5;241m*\u001b[39margs, \u001b[38;5;241m*\u001b[39m\u001b[38;5;241m*\u001b[39mkwargs)\n",
      "\u001b[1;31mTypeError\u001b[0m: scan_csv() got an unexpected keyword argument 'sep'"
     ]
    }
   ],
   "source": [
    "import polars as pl\n",
    "from pathlib import Path\n",
    "\n",
    "path_files = 'SRL Soll 2022-2025'\n",
    "files = [str(p) for p in Path(path_files).glob(\"*.csv\")]\n",
    "\n",
    "# LazyFrames mit korrektem Parameter-Namen und Fehler-Handling\n",
    "lazy_frames = [\n",
    "    pl.scan_csv(\n",
    "        f,\n",
    "        delimiter=\";\",        # Semikolon-Trenner\n",
    "        has_header=True,\n",
    "        try_parse_dates=True, # Datum/Zeit automatisch parsen\n",
    "        ignore_errors=True    # überspringt fehlerhafte Zeilen\n",
    "    )\n",
    "    for f in files\n",
    "]\n",
    "\n",
    "# Alle LazyFrames zusammenführen und\n",
    "# erst beim Collect wirklich einlesen (Streaming)\n",
    "combined_ldf = pl.concat(lazy_frames)\n",
    "df_master = combined_ldf.collect(streaming=True)\n",
    "\n",
    "print(df_master.shape)\n"
   ]
  },
  {
   "cell_type": "code",
   "execution_count": 14,
   "id": "4eed478b",
   "metadata": {},
   "outputs": [
    {
     "name": "stdout",
     "output_type": "stream",
     "text": [
      "                         DATE;TIME;GERMANY_aFRR_SETPOINT_[MW]\n",
      "01.01.2022;00:00:00;-78                                   723\n",
      "01.01.2022;00:00:01;-78                                   723\n",
      "01.01.2022;00:00:02;-43                                   437\n",
      "01.01.2022;00:00:03;-43                                   437\n",
      "01.01.2022;00:00:04;-30                                   867\n",
      "...                                                       ...\n",
      "31.12.2024;23:59:55;0                                       0\n",
      "31.12.2024;23:59:56;0                                       0\n",
      "31.12.2024;23:59:57;0                                       0\n",
      "31.12.2024;23:59:58;0                                       0\n",
      "31.12.2024;23:59:59;0                                       0\n",
      "\n",
      "[94293453 rows x 1 columns]\n"
     ]
    }
   ],
   "source": [
    "df = pd.read_pickle('SRL Soll 2022-2025/srl_soll_2022-2025.pkl')\n",
    "print(df)"
   ]
  },
  {
   "cell_type": "code",
   "execution_count": null,
   "id": "46f484d2",
   "metadata": {},
   "outputs": [
    {
     "ename": "TypeError",
     "evalue": "read_feather() got an unexpected keyword argument 'memory_map'",
     "output_type": "error",
     "traceback": [
      "\u001b[1;31m---------------------------------------------------------------------------\u001b[0m",
      "\u001b[1;31mTypeError\u001b[0m                                 Traceback (most recent call last)",
      "Cell \u001b[1;32mIn[3], line 1\u001b[0m\n\u001b[1;32m----> 1\u001b[0m df \u001b[38;5;241m=\u001b[39m pd\u001b[38;5;241m.\u001b[39mread_feather(\n\u001b[0;32m      2\u001b[0m     \u001b[38;5;124m'\u001b[39m\u001b[38;5;124mSRL Soll 2022-2025/srl_soll_2022-2025.feather\u001b[39m\u001b[38;5;124m'\u001b[39m,\n\u001b[0;32m      3\u001b[0m     use_threads\u001b[38;5;241m=\u001b[39m\u001b[38;5;28;01mTrue\u001b[39;00m,\n\u001b[0;32m      4\u001b[0m     memory_map\u001b[38;5;241m=\u001b[39m\u001b[38;5;28;01mTrue\u001b[39;00m\n\u001b[0;32m      5\u001b[0m )\n\u001b[0;32m      7\u001b[0m \u001b[38;5;66;03m#df = df.set_index(df.columns[0])\u001b[39;00m\n\u001b[0;32m      8\u001b[0m \u001b[38;5;28mprint\u001b[39m(df)\n",
      "\u001b[1;31mTypeError\u001b[0m: read_feather() got an unexpected keyword argument 'memory_map'"
     ]
    }
   ],
   "source": [
    "import pandas as pd\n",
    "\n",
    "df = pd.read_feather(\n",
    "    \"SRL Soll 2022-2025/srl_soll_2022-2025.feather\",\n",
    "    use_threads=True            # <-- erlaubt Mehrthread‐I/O\n",
    ")\n",
    "#df = df.set_index(df.columns[0])\n",
    "print(df.shape)\n"
   ]
  },
  {
   "cell_type": "code",
   "execution_count": null,
   "id": "5187b4de",
   "metadata": {},
   "outputs": [],
   "source": []
  }
 ],
 "metadata": {
  "kernelspec": {
   "display_name": "base",
   "language": "python",
   "name": "python3"
  },
  "language_info": {
   "codemirror_mode": {
    "name": "ipython",
    "version": 3
   },
   "file_extension": ".py",
   "mimetype": "text/x-python",
   "name": "python",
   "nbconvert_exporter": "python",
   "pygments_lexer": "ipython3",
   "version": "3.11.5"
  }
 },
 "nbformat": 4,
 "nbformat_minor": 5
}
