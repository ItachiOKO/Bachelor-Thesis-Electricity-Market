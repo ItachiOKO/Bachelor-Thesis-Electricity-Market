{
 "cells": [
  {
   "cell_type": "code",
   "execution_count": null,
   "id": "5743517c",
   "metadata": {},
   "outputs": [],
   "source": [
    "import pandas as pd\n",
    "import numpy as np\n",
    "\n",
    "pd.set_option('display.expand_frame_repr', False)  # keine Umbrüche mehr\n",
    "pd.set_option('display.max_columns', None)         # alle Spalten anzeigen"
   ]
  },
  {
   "cell_type": "code",
   "execution_count": null,
   "id": "019bfc1f",
   "metadata": {},
   "outputs": [],
   "source": [
    "#example prices for a 4s frequency\n",
    "def create_price_df():\n",
    "    idx = pd.date_range(\n",
    "        start='2022-01-01 00:00:00',\n",
    "        end='2024-12-31 23:59:56',\n",
    "        freq='4S',\n",
    "        tz='Europe/Berlin'\n",
    "    )\n",
    "    \n",
    "    prices_neg = -np.abs(np.random.randn(len(idx))) -4                    \n",
    "    prices_pos = np.abs(np.random.randn(len(idx))) + 4 \n",
    "    \n",
    "    df = pd.DataFrame({\n",
    "        'prices_neg': prices_neg,\n",
    "        'prices_pos': prices_pos\n",
    "    }, index=idx)\n",
    "    \n",
    "    return df\n",
    "\n",
    "df = create_price_df()\n",
    "print(df)\n",
    "df.to_pickle('srl_example_prices_4s.pkl')"
   ]
  },
  {
   "cell_type": "code",
   "execution_count": null,
   "id": "c100fe70",
   "metadata": {},
   "outputs": [],
   "source": [
    "# join prices with setpoints\n",
    "\n",
    "df_srl_prices = pd.read_pickle('srl_example_prices_4s.pkl')\n",
    "df_srl_power_setpoint = pd.read_pickle('srl_soll_leistung_2022-2025_4s.pkl')\n",
    "\n",
    "print(len(df_srl_prices))\n",
    "print(len(df_srl_power_setpoint))\n",
    "\n",
    "# join\n",
    "df_srl_work = df_srl_prices.join(df_srl_power_setpoint, how='inner')\n",
    "print(len(df_srl_work))\n",
    "print(df_srl_work)\n",
    "df_srl_work.to_pickle('srl_work_4s.pkl')"
   ]
  },
  {
   "cell_type": "code",
   "execution_count": null,
   "id": "05dfed48",
   "metadata": {},
   "outputs": [],
   "source": [
    "df_srl_work = pd.read_pickle('srl_work_4s.pkl')"
   ]
  },
  {
   "cell_type": "code",
   "execution_count": null,
   "id": "171336f1",
   "metadata": {},
   "outputs": [],
   "source": [
    "# testen ob proftabel and set target\n",
    "SPECIFIC_AGING_COSTS = 4.7  # €/MWh\n",
    "SYSTEM_POWER = 1           # MW\n",
    "MWH_USED_PER_P = SYSTEM_POWER * 4/3600   # MWh pro 4 s\n",
    "\n",
    "df = df_srl_work.copy()\n",
    "\n",
    "# initialize work targets\n",
    "df['work_target_neg'] = 0.0 \n",
    "df['work_target_pos'] = 0.0\n",
    "\n",
    "mask_neg = (\n",
    "    (-df['prices_neg'] > SPECIFIC_AGING_COSTS)\n",
    "    & (df['neg_setpoint'] < 0)\n",
    ")\n",
    "df.loc[mask_neg, 'work_target_neg'] = MWH_USED_PER_P\n",
    "\n",
    "mask_pos = (\n",
    "    (df['prices_pos'] >  SPECIFIC_AGING_COSTS)\n",
    "    & (df['pos_setpoint'] > 0)\n",
    ")\n",
    "df.loc[mask_pos, 'work_target_pos'] = MWH_USED_PER_P\n",
    "\n",
    "print(df)"
   ]
  },
  {
   "cell_type": "code",
   "execution_count": null,
   "id": "c81bcc98",
   "metadata": {},
   "outputs": [],
   "source": [
    "import numpy as np\n",
    "import numba as nb\n",
    "\n",
    "# Benchmark-Parameter\n",
    "MWH_USED_PER_P      = MWH_USED_PER_P    # MWh pro 4 s pro MW\n",
    "RAMP_TIME_S         = 5*60    # 300 s\n",
    "RAMP_RATE_MWH_PER_S = MWH_USED_PER_P / RAMP_TIME_S\n",
    "RAMP_STEP_MWH       = RAMP_RATE_MWH_PER_S * 4  # MWh pro 4 s\n",
    "\n",
    "\n",
    "\n"
   ]
  },
  {
   "cell_type": "code",
   "execution_count": null,
   "id": "98c2bb5e",
   "metadata": {},
   "outputs": [],
   "source": [
    "@nb.njit\n",
    "def compute_ramp(target: np.ndarray, ramp_step: float) -> np.ndarray:\n",
    "    n      = target.shape[0]\n",
    "    actual = np.empty(n, dtype=np.float64)\n",
    "    prev   = 0.0\n",
    "    for i in range(n):\n",
    "        delta = target[i] - prev\n",
    "        if   delta >  ramp_step:\n",
    "            prev += ramp_step\n",
    "        elif delta < -ramp_step:\n",
    "            prev -= ramp_step\n",
    "        else:\n",
    "            prev  = target[i]\n",
    "        actual[i] = prev\n",
    "    return actual\n",
    "\n",
    "# Anwendung\n",
    "target = df['work_target_pos'].to_numpy()\n",
    "# Erstes Mal JIT-Kompilierung dauert etwas, danach\n",
    "actual = compute_ramp(target, RAMP_STEP_MWH)\n",
    "df['actual_mwh_pos'] = actual\n"
   ]
  },
  {
   "cell_type": "code",
   "execution_count": null,
   "id": "961e3ae0",
   "metadata": {},
   "outputs": [],
   "source": [
    "@nb.njit\n",
    "def compute_ramp(target: np.ndarray, ramp_step: float) -> np.ndarray:\n",
    "    n      = target.shape[0]\n",
    "    actual = np.empty(n, dtype=np.float64)\n",
    "    prev   = 0.0\n",
    "    for i in range(n):\n",
    "        delta = target[i] - prev\n",
    "        if   delta >  ramp_step:\n",
    "            prev += ramp_step\n",
    "        elif delta < -ramp_step:\n",
    "            prev -= ramp_step\n",
    "        else:\n",
    "            prev  = target[i]\n",
    "        actual[i] = prev\n",
    "    return actual\n",
    "\n",
    "# Anwendung\n",
    "target = df['work_target_neg'].to_numpy()\n",
    "# Erstes Mal JIT-Kompilierung dauert etwas, danach\n",
    "actual = compute_ramp(target, RAMP_STEP_MWH)\n",
    "df['actual_mwh_neg'] = actual\n"
   ]
  },
  {
   "cell_type": "code",
   "execution_count": null,
   "id": "b2bad1c9",
   "metadata": {},
   "outputs": [],
   "source": [
    "print(df)"
   ]
  },
  {
   "cell_type": "code",
   "execution_count": 99,
   "id": "1ff31bd0",
   "metadata": {},
   "outputs": [
    {
     "name": "stdout",
     "output_type": "stream",
     "text": [
      "                           prices_neg  prices_pos  GERMANY_aFRR_SETPOINT_[MW]  neg_setpoint  pos_setpoint  work_target_neg  work_target_pos  actual_mwh_pos  actual_mwh_neg\n",
      "2022-01-01 00:00:00+01:00   -4.742437    5.302215                  -61.080002    -61.080002           0.0         0.001111              0.0             0.0        0.000015\n",
      "2022-01-01 00:00:04+01:00   -5.568450    4.854315                  -29.367001    -29.367001           0.0         0.001111              0.0             0.0        0.000030\n",
      "2022-01-01 00:00:08+01:00   -4.667707    5.482987                  -27.200001    -27.200001           0.0         0.000000              0.0             0.0        0.000015\n",
      "2022-01-01 00:00:12+01:00   -5.745297    4.768736                  -50.042000    -50.042000           0.0         0.001111              0.0             0.0        0.000030\n",
      "2022-01-01 00:00:16+01:00   -4.692246    4.568923                  -22.200001    -22.200001           0.0         0.000000              0.0             0.0        0.000015\n",
      "...                               ...         ...                         ...           ...           ...              ...              ...             ...             ...\n",
      "2024-12-31 23:59:40+01:00   -4.453472    5.046535                    0.000000      0.000000           0.0         0.000000              0.0             0.0        0.000000\n",
      "2024-12-31 23:59:44+01:00   -5.135292    4.378639                    0.000000      0.000000           0.0         0.000000              0.0             0.0        0.000000\n",
      "2024-12-31 23:59:48+01:00   -5.654958    4.501389                    0.000000      0.000000           0.0         0.000000              0.0             0.0        0.000000\n",
      "2024-12-31 23:59:52+01:00   -4.568306    4.336471                    0.000000      0.000000           0.0         0.000000              0.0             0.0        0.000000\n",
      "2024-12-31 23:59:56+01:00   -6.743825    4.569057                    0.000000      0.000000           0.0         0.000000              0.0             0.0        0.000000\n",
      "\n",
      "[23673600 rows x 9 columns]\n"
     ]
    }
   ],
   "source": [
    "df_period = df.copy()\n",
    "print(df_period)\n",
    "# filter to 2022-06\n",
    "df_period = df_period.loc['2022-06-01 00:00:00':'2022-06-30 23:59:56']\n",
    "#to csv\n",
    "df_period.to_csv('srl_work_2022.csv', index=True)"
   ]
  },
  {
   "cell_type": "code",
   "execution_count": null,
   "id": "2679307a",
   "metadata": {},
   "outputs": [],
   "source": []
  },
  {
   "cell_type": "code",
   "execution_count": null,
   "id": "0bea13a0",
   "metadata": {},
   "outputs": [],
   "source": []
  }
 ],
 "metadata": {
  "kernelspec": {
   "display_name": "base",
   "language": "python",
   "name": "python3"
  },
  "language_info": {
   "codemirror_mode": {
    "name": "ipython",
    "version": 3
   },
   "file_extension": ".py",
   "mimetype": "text/x-python",
   "name": "python",
   "nbconvert_exporter": "python",
   "pygments_lexer": "ipython3",
   "version": "3.11.5"
  }
 },
 "nbformat": 4,
 "nbformat_minor": 5
}
